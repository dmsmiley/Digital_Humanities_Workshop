{
  "nbformat": 4,
  "nbformat_minor": 0,
  "metadata": {
    "colab": {
      "name": "Exodus_Sefaria.ipynb",
      "provenance": [],
      "mount_file_id": "1uGRfY0iyrAmPYPMBlGannFnF6Me6bN2n",
      "authorship_tag": "ABX9TyPSrTohWFXo9Nngb9JMVdU/",
      "include_colab_link": true
    },
    "kernelspec": {
      "name": "python3",
      "display_name": "Python 3"
    },
    "language_info": {
      "name": "python"
    }
  },
  "cells": [
    {
      "cell_type": "markdown",
      "metadata": {
        "id": "view-in-github",
        "colab_type": "text"
      },
      "source": [
        "<a href=\"https://colab.research.google.com/github/dmsmiley/Digital_Humanities_Workshop/blob/main/Exodus_Sefaria.ipynb\" target=\"_parent\"><img src=\"https://colab.research.google.com/assets/colab-badge.svg\" alt=\"Open In Colab\"/></a>"
      ]
    },
    {
      "cell_type": "markdown",
      "metadata": {
        "id": "5am1Nesa-Y5_"
      },
      "source": [
        "###0. Preprocessing to Get CSV"
      ]
    },
    {
      "cell_type": "code",
      "metadata": {
        "id": "W2QfSesz-dLO"
      },
      "source": [
        "import urllib.request, json, pandas as pd"
      ],
      "execution_count": null,
      "outputs": []
    },
    {
      "cell_type": "code",
      "metadata": {
        "id": "aIx6gfIz-j_W"
      },
      "source": [
        "def get_normal_data(ch_st, ch_end):\n",
        "    ch_end += 1\n",
        "    data = []\n",
        "    for x in range(ch_st, ch_end):\n",
        "        with urllib.request.urlopen('https://www.sefaria.org/api/links/Exodus.{}'.format(x)) as url:\n",
        "            y = json.loads(url.read().decode())\n",
        "            data.append(y)\n",
        "    \n",
        "    dataset = []\n",
        "    for x in data:\n",
        "        for y in range(len(x)):\n",
        "            dataset.append(x[y])\n",
        "    \n",
        "    return pd.json_normalize(dataset)"
      ],
      "execution_count": null,
      "outputs": []
    },
    {
      "cell_type": "code",
      "metadata": {
        "id": "081kG6MP-nB4"
      },
      "source": [
        "data1 = get_normal_data(1,20)\n",
        "data2 = get_normal_data(21,40)"
      ],
      "execution_count": null,
      "outputs": []
    },
    {
      "cell_type": "code",
      "metadata": {
        "id": "NclMo1Q_-ppW"
      },
      "source": [
        "df = pd.concat([data1,data2])"
      ],
      "execution_count": null,
      "outputs": []
    },
    {
      "cell_type": "code",
      "metadata": {
        "id": "tgxRuzKf-s46"
      },
      "source": [
        "chapter = df['anchorRef'].str.split(' ', expand=True).rename(columns={0:'Book', 1:'Chapter'})\n",
        "chapter = chapter['Chapter'].str.split(':', expand=True).rename(columns={0:'Chapter',1:'Verse'})\n",
        "chapter = chapter.drop(columns=['Verse',2])"
      ],
      "execution_count": null,
      "outputs": []
    },
    {
      "cell_type": "code",
      "metadata": {
        "id": "I9Z27a2D-xaG"
      },
      "source": [
        "df = pd.merge(df, chapter, left_index=True, right_index=True)"
      ],
      "execution_count": null,
      "outputs": []
    },
    {
      "cell_type": "code",
      "metadata": {
        "id": "10JnEMnk-0p2"
      },
      "source": [
        "df['Chapter'] = df['Chapter'].astype(int)"
      ],
      "execution_count": null,
      "outputs": []
    },
    {
      "cell_type": "code",
      "metadata": {
        "id": "JitSLevQ-3N-"
      },
      "source": [
        "df = df.rename(columns={\"anchorVerse\":\"verse\", 'Chapter':'chapter'})"
      ],
      "execution_count": null,
      "outputs": []
    },
    {
      "cell_type": "code",
      "metadata": {
        "id": "pAiZ3qZd-7Ve"
      },
      "source": [
        "df = df[['_id','index_title', 'category', 'type', 'ref', 'anchorRef', 'Chapter', 'verse', \n",
        "         'compDate', 'he', 'text', 'heVersionTitle', 'collectiveTitle.he',\n",
        "         'anchorRefExpanded', 'sourceRef','sourceHeRef', 'versionTitle', 'license',\n",
        "         'versionTitleInHebrew', 'collectiveTitle.en', 'sourceHasEn', 'errorMargin',\n",
        "         'commentaryNum','heTitle','heLicense','heVersionTitleInHebrew']]"
      ],
      "execution_count": null,
      "outputs": []
    },
    {
      "cell_type": "code",
      "metadata": {
        "id": "YaJLnF8J_GIu"
      },
      "source": [
        "df.to_csv('exodus_links.csv', index=False)"
      ],
      "execution_count": null,
      "outputs": []
    },
    {
      "cell_type": "markdown",
      "metadata": {
        "id": "HCF_lcMm-gQm"
      },
      "source": [
        "###1. Prepping Data for Analysis"
      ]
    },
    {
      "cell_type": "code",
      "metadata": {
        "id": "4KPY4SGTtBs7"
      },
      "source": [
        "import pandas as pd"
      ],
      "execution_count": 1,
      "outputs": []
    },
    {
      "cell_type": "code",
      "metadata": {
        "id": "ljkrlxOBvPuo"
      },
      "source": [
        "df = pd.read_csv('/content/drive/MyDrive/exodus_links.csv')"
      ],
      "execution_count": 35,
      "outputs": []
    },
    {
      "cell_type": "code",
      "metadata": {
        "colab": {
          "base_uri": "https://localhost:8080/",
          "height": 526
        },
        "id": "rFf944bJvUYv",
        "outputId": "37aab465-e537-40af-c414-9626715b56b4"
      },
      "source": [
        "df.head()"
      ],
      "execution_count": 36,
      "outputs": [
        {
          "output_type": "execute_result",
          "data": {
            "text/html": [
              "<div>\n",
              "<style scoped>\n",
              "    .dataframe tbody tr th:only-of-type {\n",
              "        vertical-align: middle;\n",
              "    }\n",
              "\n",
              "    .dataframe tbody tr th {\n",
              "        vertical-align: top;\n",
              "    }\n",
              "\n",
              "    .dataframe thead th {\n",
              "        text-align: right;\n",
              "    }\n",
              "</style>\n",
              "<table border=\"1\" class=\"dataframe\">\n",
              "  <thead>\n",
              "    <tr style=\"text-align: right;\">\n",
              "      <th></th>\n",
              "      <th>_id</th>\n",
              "      <th>index_title</th>\n",
              "      <th>category</th>\n",
              "      <th>type</th>\n",
              "      <th>ref</th>\n",
              "      <th>anchorRef</th>\n",
              "      <th>Chapter</th>\n",
              "      <th>verse</th>\n",
              "      <th>compDate</th>\n",
              "      <th>he</th>\n",
              "      <th>text</th>\n",
              "      <th>heVersionTitle</th>\n",
              "      <th>collectiveTitle.he</th>\n",
              "      <th>anchorRefExpanded</th>\n",
              "      <th>sourceRef</th>\n",
              "      <th>sourceHeRef</th>\n",
              "      <th>versionTitle</th>\n",
              "      <th>license</th>\n",
              "      <th>versionTitleInHebrew</th>\n",
              "      <th>collectiveTitle.en</th>\n",
              "      <th>sourceHasEn</th>\n",
              "      <th>errorMargin</th>\n",
              "      <th>commentaryNum</th>\n",
              "      <th>heTitle</th>\n",
              "      <th>heLicense</th>\n",
              "      <th>heVersionTitleInHebrew</th>\n",
              "    </tr>\n",
              "  </thead>\n",
              "  <tbody>\n",
              "    <tr>\n",
              "      <th>0</th>\n",
              "      <td>515cfd7dedbab4483c99c98c</td>\n",
              "      <td>Shemot Rabbah</td>\n",
              "      <td>Midrash</td>\n",
              "      <td>midrash</td>\n",
              "      <td>Shemot Rabbah 1:1</td>\n",
              "      <td>Exodus 1:1</td>\n",
              "      <td>1</td>\n",
              "      <td>1</td>\n",
              "      <td>1200</td>\n",
              "      <td>וְאֵלֶּה שְׁמוֹת בְּנֵי יִשְׂרָאֵל הַבָּאִים מ...</td>\n",
              "      <td>And these are the names of the Sons of Israel ...</td>\n",
              "      <td>Midrash Rabbah -- TE</td>\n",
              "      <td>שמות רבה</td>\n",
              "      <td>['Exodus 1:1']</td>\n",
              "      <td>Shemot Rabbah 1:1</td>\n",
              "      <td>שמות רבה א׳:א׳</td>\n",
              "      <td>Sefaria Community Translation</td>\n",
              "      <td>CC0</td>\n",
              "      <td>תרגום קהילת ספאריה</td>\n",
              "      <td>Shemot Rabbah</td>\n",
              "      <td>True</td>\n",
              "      <td>0.0</td>\n",
              "      <td>1.0001</td>\n",
              "      <td>שמות רבה</td>\n",
              "      <td>unknown</td>\n",
              "      <td>מדרש רבה - תורת אמת</td>\n",
              "    </tr>\n",
              "    <tr>\n",
              "      <th>1</th>\n",
              "      <td>515cfd7dedbab4483c99c98c</td>\n",
              "      <td>Shemot Rabbah</td>\n",
              "      <td>Midrash</td>\n",
              "      <td>midrash</td>\n",
              "      <td>Shemot Rabbah 1:1</td>\n",
              "      <td>Exodus 1:1</td>\n",
              "      <td>21</td>\n",
              "      <td>1</td>\n",
              "      <td>1200</td>\n",
              "      <td>וְאֵלֶּה שְׁמוֹת בְּנֵי יִשְׂרָאֵל הַבָּאִים מ...</td>\n",
              "      <td>And these are the names of the Sons of Israel ...</td>\n",
              "      <td>Midrash Rabbah -- TE</td>\n",
              "      <td>שמות רבה</td>\n",
              "      <td>['Exodus 1:1']</td>\n",
              "      <td>Shemot Rabbah 1:1</td>\n",
              "      <td>שמות רבה א׳:א׳</td>\n",
              "      <td>Sefaria Community Translation</td>\n",
              "      <td>CC0</td>\n",
              "      <td>תרגום קהילת ספאריה</td>\n",
              "      <td>Shemot Rabbah</td>\n",
              "      <td>True</td>\n",
              "      <td>0.0</td>\n",
              "      <td>1.0001</td>\n",
              "      <td>שמות רבה</td>\n",
              "      <td>unknown</td>\n",
              "      <td>מדרש רבה - תורת אמת</td>\n",
              "    </tr>\n",
              "    <tr>\n",
              "      <th>2</th>\n",
              "      <td>51611ef7edbab4794f783097</td>\n",
              "      <td>Shemot Rabbah</td>\n",
              "      <td>Midrash</td>\n",
              "      <td>midrash</td>\n",
              "      <td>Shemot Rabbah 30:1</td>\n",
              "      <td>Exodus 21:1</td>\n",
              "      <td>1</td>\n",
              "      <td>1</td>\n",
              "      <td>1200</td>\n",
              "      <td>וְאֵלֶּה הַמִּשְׁפָּטִים, הֲדָא הוּא דִכְתִיב ...</td>\n",
              "      <td>NaN</td>\n",
              "      <td>Midrash Rabbah -- TE</td>\n",
              "      <td>שמות רבה</td>\n",
              "      <td>['Exodus 21:1']</td>\n",
              "      <td>Shemot Rabbah 30:1</td>\n",
              "      <td>שמות רבה ל׳:א׳</td>\n",
              "      <td>Sefaria Community Translation</td>\n",
              "      <td>CC0</td>\n",
              "      <td>תרגום קהילת ספאריה</td>\n",
              "      <td>Shemot Rabbah</td>\n",
              "      <td>False</td>\n",
              "      <td>0.0</td>\n",
              "      <td>30.0001</td>\n",
              "      <td>שמות רבה</td>\n",
              "      <td>unknown</td>\n",
              "      <td>מדרש רבה - תורת אמת</td>\n",
              "    </tr>\n",
              "    <tr>\n",
              "      <th>3</th>\n",
              "      <td>51611ef7edbab4794f783097</td>\n",
              "      <td>Shemot Rabbah</td>\n",
              "      <td>Midrash</td>\n",
              "      <td>midrash</td>\n",
              "      <td>Shemot Rabbah 30:1</td>\n",
              "      <td>Exodus 21:1</td>\n",
              "      <td>21</td>\n",
              "      <td>1</td>\n",
              "      <td>1200</td>\n",
              "      <td>וְאֵלֶּה הַמִּשְׁפָּטִים, הֲדָא הוּא דִכְתִיב ...</td>\n",
              "      <td>NaN</td>\n",
              "      <td>Midrash Rabbah -- TE</td>\n",
              "      <td>שמות רבה</td>\n",
              "      <td>['Exodus 21:1']</td>\n",
              "      <td>Shemot Rabbah 30:1</td>\n",
              "      <td>שמות רבה ל׳:א׳</td>\n",
              "      <td>Sefaria Community Translation</td>\n",
              "      <td>CC0</td>\n",
              "      <td>תרגום קהילת ספאריה</td>\n",
              "      <td>Shemot Rabbah</td>\n",
              "      <td>False</td>\n",
              "      <td>0.0</td>\n",
              "      <td>30.0001</td>\n",
              "      <td>שמות רבה</td>\n",
              "      <td>unknown</td>\n",
              "      <td>מדרש רבה - תורת אמת</td>\n",
              "    </tr>\n",
              "    <tr>\n",
              "      <th>4</th>\n",
              "      <td>515cfd94edbab4483c99c98e</td>\n",
              "      <td>Shemot Rabbah</td>\n",
              "      <td>Midrash</td>\n",
              "      <td>midrash</td>\n",
              "      <td>Shemot Rabbah 1:2</td>\n",
              "      <td>Exodus 1:1</td>\n",
              "      <td>1</td>\n",
              "      <td>1</td>\n",
              "      <td>1200</td>\n",
              "      <td>דָּבָר אַחֵר, וְאֵלֶּה שְׁמוֹת, אָמַר רַבִּי א...</td>\n",
              "      <td>Furthermore: \"And these are the names...\" Rabb...</td>\n",
              "      <td>Midrash Rabbah -- TE</td>\n",
              "      <td>שמות רבה</td>\n",
              "      <td>['Exodus 1:1']</td>\n",
              "      <td>Shemot Rabbah 1:2</td>\n",
              "      <td>שמות רבה א׳:ב׳</td>\n",
              "      <td>Sefaria Community Translation</td>\n",
              "      <td>CC0</td>\n",
              "      <td>תרגום קהילת ספאריה</td>\n",
              "      <td>Shemot Rabbah</td>\n",
              "      <td>True</td>\n",
              "      <td>0.0</td>\n",
              "      <td>1.0002</td>\n",
              "      <td>שמות רבה</td>\n",
              "      <td>unknown</td>\n",
              "      <td>מדרש רבה - תורת אמת</td>\n",
              "    </tr>\n",
              "  </tbody>\n",
              "</table>\n",
              "</div>"
            ],
            "text/plain": [
              "                        _id    index_title  ... heLicense heVersionTitleInHebrew\n",
              "0  515cfd7dedbab4483c99c98c  Shemot Rabbah  ...   unknown    מדרש רבה - תורת אמת\n",
              "1  515cfd7dedbab4483c99c98c  Shemot Rabbah  ...   unknown    מדרש רבה - תורת אמת\n",
              "2  51611ef7edbab4794f783097  Shemot Rabbah  ...   unknown    מדרש רבה - תורת אמת\n",
              "3  51611ef7edbab4794f783097  Shemot Rabbah  ...   unknown    מדרש רבה - תורת אמת\n",
              "4  515cfd94edbab4483c99c98e  Shemot Rabbah  ...   unknown    מדרש רבה - תורת אמת\n",
              "\n",
              "[5 rows x 26 columns]"
            ]
          },
          "metadata": {},
          "execution_count": 36
        }
      ]
    },
    {
      "cell_type": "code",
      "metadata": {
        "colab": {
          "base_uri": "https://localhost:8080/",
          "height": 295
        },
        "id": "aKz7yIihvapu",
        "outputId": "b718b06b-02e7-4e94-c727-77b1296e5291"
      },
      "source": [
        "df.describe()"
      ],
      "execution_count": 30,
      "outputs": [
        {
          "output_type": "execute_result",
          "data": {
            "text/html": [
              "<div>\n",
              "<style scoped>\n",
              "    .dataframe tbody tr th:only-of-type {\n",
              "        vertical-align: middle;\n",
              "    }\n",
              "\n",
              "    .dataframe tbody tr th {\n",
              "        vertical-align: top;\n",
              "    }\n",
              "\n",
              "    .dataframe thead th {\n",
              "        text-align: right;\n",
              "    }\n",
              "</style>\n",
              "<table border=\"1\" class=\"dataframe\">\n",
              "  <thead>\n",
              "    <tr style=\"text-align: right;\">\n",
              "      <th></th>\n",
              "      <th>Chapter</th>\n",
              "      <th>verse</th>\n",
              "      <th>compDate</th>\n",
              "      <th>errorMargin</th>\n",
              "      <th>commentaryNum</th>\n",
              "    </tr>\n",
              "  </thead>\n",
              "  <tbody>\n",
              "    <tr>\n",
              "      <th>count</th>\n",
              "      <td>160745.000000</td>\n",
              "      <td>160745.000000</td>\n",
              "      <td>156507.000000</td>\n",
              "      <td>156574.000000</td>\n",
              "      <td>160745.000000</td>\n",
              "    </tr>\n",
              "    <tr>\n",
              "      <th>mean</th>\n",
              "      <td>18.887822</td>\n",
              "      <td>15.150232</td>\n",
              "      <td>1338.805836</td>\n",
              "      <td>32.441523</td>\n",
              "      <td>38.129442</td>\n",
              "    </tr>\n",
              "    <tr>\n",
              "      <th>std</th>\n",
              "      <td>10.192897</td>\n",
              "      <td>10.495871</td>\n",
              "      <td>502.268291</td>\n",
              "      <td>64.298111</td>\n",
              "      <td>83.663606</td>\n",
              "    </tr>\n",
              "    <tr>\n",
              "      <th>min</th>\n",
              "      <td>1.000000</td>\n",
              "      <td>1.000000</td>\n",
              "      <td>-900.000000</td>\n",
              "      <td>0.000000</td>\n",
              "      <td>0.000000</td>\n",
              "    </tr>\n",
              "    <tr>\n",
              "      <th>25%</th>\n",
              "      <td>12.000000</td>\n",
              "      <td>7.000000</td>\n",
              "      <td>1110.000000</td>\n",
              "      <td>5.000000</td>\n",
              "      <td>6.000100</td>\n",
              "    </tr>\n",
              "    <tr>\n",
              "      <th>50%</th>\n",
              "      <td>20.000000</td>\n",
              "      <td>14.000000</td>\n",
              "      <td>1310.000000</td>\n",
              "      <td>15.000000</td>\n",
              "      <td>14.000800</td>\n",
              "    </tr>\n",
              "    <tr>\n",
              "      <th>75%</th>\n",
              "      <td>27.000000</td>\n",
              "      <td>22.000000</td>\n",
              "      <td>1795.000000</td>\n",
              "      <td>25.000000</td>\n",
              "      <td>29.000100</td>\n",
              "    </tr>\n",
              "    <tr>\n",
              "      <th>max</th>\n",
              "      <td>40.000000</td>\n",
              "      <td>340.000000</td>\n",
              "      <td>2018.000000</td>\n",
              "      <td>1000.000000</td>\n",
              "      <td>1147.000100</td>\n",
              "    </tr>\n",
              "  </tbody>\n",
              "</table>\n",
              "</div>"
            ],
            "text/plain": [
              "             Chapter          verse  ...    errorMargin  commentaryNum\n",
              "count  160745.000000  160745.000000  ...  156574.000000  160745.000000\n",
              "mean       18.887822      15.150232  ...      32.441523      38.129442\n",
              "std        10.192897      10.495871  ...      64.298111      83.663606\n",
              "min         1.000000       1.000000  ...       0.000000       0.000000\n",
              "25%        12.000000       7.000000  ...       5.000000       6.000100\n",
              "50%        20.000000      14.000000  ...      15.000000      14.000800\n",
              "75%        27.000000      22.000000  ...      25.000000      29.000100\n",
              "max        40.000000     340.000000  ...    1000.000000    1147.000100\n",
              "\n",
              "[8 rows x 5 columns]"
            ]
          },
          "metadata": {},
          "execution_count": 30
        }
      ]
    },
    {
      "cell_type": "markdown",
      "metadata": {
        "id": "3-maBBBwMwJz"
      },
      "source": [
        "###2. EDA"
      ]
    },
    {
      "cell_type": "code",
      "metadata": {
        "id": "mUfiJXhHMpIb"
      },
      "source": [
        "import seaborn as sns"
      ],
      "execution_count": 12,
      "outputs": []
    },
    {
      "cell_type": "code",
      "metadata": {
        "colab": {
          "base_uri": "https://localhost:8080/",
          "height": 386
        },
        "id": "4pCPs8TBM0gU",
        "outputId": "77e8e57c-a4db-4d14-ae8a-6c3dec30e992"
      },
      "source": [
        "sns.displot(df['compDate'])"
      ],
      "execution_count": 14,
      "outputs": [
        {
          "output_type": "execute_result",
          "data": {
            "text/plain": [
              "<seaborn.axisgrid.FacetGrid at 0x7f8dd595bad0>"
            ]
          },
          "metadata": {},
          "execution_count": 14
        },
        {
          "output_type": "display_data",
          "data": {
            "image/png": "[encoded data removed]",
            "text/plain": [
              "<Figure size 360x360 with 1 Axes>"
            ]
          },
          "metadata": {
            "needs_background": "light"
          }
        }
      ]
    },
    {
      "cell_type": "code",
      "metadata": {
        "id": "qZLa3IcVw_RJ",
        "colab": {
          "base_uri": "https://localhost:8080/"
        },
        "outputId": "f4f459ea-4131-4771-b8fe-0cd522693074"
      },
      "source": [
        "df.groupby(['anchorRef']).size().sort_values(ascending=False)[:15]"
      ],
      "execution_count": 11,
      "outputs": [
        {
          "output_type": "execute_result",
          "data": {
            "text/plain": [
              "anchorRef\n",
              "Exodus 15:1     880\n",
              "Exodus 34:6     866\n",
              "Exodus 12:2     826\n",
              "Exodus 15:2     806\n",
              "Exodus 27:20    700\n",
              "Exodus 25:8     696\n",
              "Exodus 25:2     598\n",
              "Exodus 21:1     584\n",
              "Exodus 24:7     576\n",
              "Exodus 16:4     566\n",
              "Exodus 23:19    562\n",
              "Exodus 22:24    550\n",
              "Exodus 15:17    538\n",
              "Exodus 15:26    536\n",
              "Exodus 21:2     522\n",
              "dtype: int64"
            ]
          },
          "metadata": {},
          "execution_count": 11
        }
      ]
    },
    {
      "cell_type": "code",
      "metadata": {
        "colab": {
          "base_uri": "https://localhost:8080/"
        },
        "id": "0jGdZ2dGQ0eD",
        "outputId": "b0520993-2972-4bbe-e733-7b249eaf7c09"
      },
      "source": [
        "df.groupby(['index_title']).size().sort_values(ascending=False)[:15]"
      ],
      "execution_count": 53,
      "outputs": [
        {
          "output_type": "execute_result",
          "data": {
            "text/plain": [
              "index_title\n",
              "Midrash Lekach Tov         5961\n",
              "Rashi on Exodus            3854\n",
              "Birkat Asher on Torah      3443\n",
              "Haamek Davar on Exodus     3432\n",
              "Rabbeinu Bahya             3356\n",
              "Torah Temimah on Torah     3342\n",
              "Chizkuni                   3272\n",
              "Ibn Ezra on Exodus         3196\n",
              "Yalkut Shimoni on Torah    2923\n",
              "Zohar                      2865\n",
              "Or HaChaim on Exodus       2818\n",
              "Shenei Luchot HaBerit      2601\n",
              "Yismach Moshe              2500\n",
              "Midrash Tanchuma           2374\n",
              "Siftei Chakhamim           2371\n",
              "dtype: int64"
            ]
          },
          "metadata": {},
          "execution_count": 53
        }
      ]
    },
    {
      "cell_type": "code",
      "metadata": {
        "colab": {
          "base_uri": "https://localhost:8080/",
          "height": 1000
        },
        "id": "V-wsubYWQ6N3",
        "outputId": "b8c0fc06-8ab8-4a42-8764-a3ce24347cb7"
      },
      "source": [
        "rashi = df[df['index_title'] == 'Rashi on Exodus'].sort_values(by=['Chapter', 'verse'])\n",
        "rashi"
      ],
      "execution_count": 57,
      "outputs": [
        {
          "output_type": "execute_result",
          "data": {
            "text/html": [
              "<div>\n",
              "<style scoped>\n",
              "    .dataframe tbody tr th:only-of-type {\n",
              "        vertical-align: middle;\n",
              "    }\n",
              "\n",
              "    .dataframe tbody tr th {\n",
              "        vertical-align: top;\n",
              "    }\n",
              "\n",
              "    .dataframe thead th {\n",
              "        text-align: right;\n",
              "    }\n",
              "</style>\n",
              "<table border=\"1\" class=\"dataframe\">\n",
              "  <thead>\n",
              "    <tr style=\"text-align: right;\">\n",
              "      <th></th>\n",
              "      <th>_id</th>\n",
              "      <th>index_title</th>\n",
              "      <th>category</th>\n",
              "      <th>type</th>\n",
              "      <th>ref</th>\n",
              "      <th>anchorRef</th>\n",
              "      <th>Chapter</th>\n",
              "      <th>verse</th>\n",
              "      <th>compDate</th>\n",
              "      <th>he</th>\n",
              "      <th>text</th>\n",
              "      <th>heVersionTitle</th>\n",
              "      <th>collectiveTitle.he</th>\n",
              "      <th>anchorRefExpanded</th>\n",
              "      <th>sourceRef</th>\n",
              "      <th>sourceHeRef</th>\n",
              "      <th>versionTitle</th>\n",
              "      <th>license</th>\n",
              "      <th>versionTitleInHebrew</th>\n",
              "      <th>collectiveTitle.en</th>\n",
              "      <th>sourceHasEn</th>\n",
              "      <th>errorMargin</th>\n",
              "      <th>commentaryNum</th>\n",
              "      <th>heTitle</th>\n",
              "      <th>heLicense</th>\n",
              "      <th>heVersionTitleInHebrew</th>\n",
              "    </tr>\n",
              "  </thead>\n",
              "  <tbody>\n",
              "    <tr>\n",
              "      <th>120</th>\n",
              "      <td>574c6eefd6e4a9347afe0384</td>\n",
              "      <td>Rashi on Exodus</td>\n",
              "      <td>Commentary</td>\n",
              "      <td>commentary</td>\n",
              "      <td>Rashi on Exodus 1:1:1</td>\n",
              "      <td>Exodus 1:1</td>\n",
              "      <td>1</td>\n",
              "      <td>1</td>\n",
              "      <td>1090</td>\n",
              "      <td>&lt;b&gt;ואלה שמות בני ישראל.&lt;/b&gt; אַעַ\"פִּ שֶׁמְּנָא...</td>\n",
              "      <td>ואלה שמות בני ישראל NOW THESE ARE THE NAMES O...</td>\n",
              "      <td>Pentateuch with Rashi's commentary by M. Rosen...</td>\n",
              "      <td>רש\"י</td>\n",
              "      <td>['Exodus 1:1']</td>\n",
              "      <td>Rashi on Exodus 1:1:1</td>\n",
              "      <td>רש\"י על שמות א׳:א׳:א׳</td>\n",
              "      <td>Pentateuch with Rashi's commentary by M. Rosen...</td>\n",
              "      <td>Public Domain</td>\n",
              "      <td>חמישה חומשי תורה עם פירוש רש״י, מ. רוזנבאום וא...</td>\n",
              "      <td>Rashi</td>\n",
              "      <td>True</td>\n",
              "      <td>15.0</td>\n",
              "      <td>1.0001</td>\n",
              "      <td>רש\"י על שמות</td>\n",
              "      <td>Public Domain</td>\n",
              "      <td>NaN</td>\n",
              "    </tr>\n",
              "    <tr>\n",
              "      <th>290</th>\n",
              "      <td>574c6ef4d6e4a9347afe0a70</td>\n",
              "      <td>Rashi on Exodus</td>\n",
              "      <td>Commentary</td>\n",
              "      <td>commentary</td>\n",
              "      <td>Rashi on Exodus 21:1:1</td>\n",
              "      <td>Exodus 21:1</td>\n",
              "      <td>1</td>\n",
              "      <td>1</td>\n",
              "      <td>1090</td>\n",
              "      <td>&lt;b&gt;ואלה המשפטים.&lt;/b&gt; כָּל מָקוֹם שֶׁנֶּאֱמַר \"...</td>\n",
              "      <td>ואלה המשפטים NOW THESE ARE THE JUDGMENTS — Whe...</td>\n",
              "      <td>Pentateuch with Rashi's commentary by M. Rosen...</td>\n",
              "      <td>רש\"י</td>\n",
              "      <td>['Exodus 21:1']</td>\n",
              "      <td>Rashi on Exodus 21:1:1</td>\n",
              "      <td>רש\"י על שמות כ״א:א׳:א׳</td>\n",
              "      <td>Pentateuch with Rashi's commentary by M. Rosen...</td>\n",
              "      <td>Public Domain</td>\n",
              "      <td>חמישה חומשי תורה עם פירוש רש״י, מ. רוזנבאום וא...</td>\n",
              "      <td>Rashi</td>\n",
              "      <td>True</td>\n",
              "      <td>15.0</td>\n",
              "      <td>1.0001</td>\n",
              "      <td>רש\"י על שמות</td>\n",
              "      <td>Public Domain</td>\n",
              "      <td>NaN</td>\n",
              "    </tr>\n",
              "    <tr>\n",
              "      <th>294</th>\n",
              "      <td>574c6ef4d6e4a9347afe0a72</td>\n",
              "      <td>Rashi on Exodus</td>\n",
              "      <td>Commentary</td>\n",
              "      <td>commentary</td>\n",
              "      <td>Rashi on Exodus 21:1:2</td>\n",
              "      <td>Exodus 21:1</td>\n",
              "      <td>1</td>\n",
              "      <td>1</td>\n",
              "      <td>1090</td>\n",
              "      <td>&lt;b&gt;אשר תשים לפניהם.&lt;/b&gt; אָמַר לוֹ הַקָּבָּ\"ה ל...</td>\n",
              "      <td>אשר תשים לפניהם WHICH THOU SHALT PUT BEFORE T...</td>\n",
              "      <td>Pentateuch with Rashi's commentary by M. Rosen...</td>\n",
              "      <td>רש\"י</td>\n",
              "      <td>['Exodus 21:1']</td>\n",
              "      <td>Rashi on Exodus 21:1:2</td>\n",
              "      <td>רש\"י על שמות כ״א:א׳:ב׳</td>\n",
              "      <td>Pentateuch with Rashi's commentary by M. Rosen...</td>\n",
              "      <td>Public Domain</td>\n",
              "      <td>חמישה חומשי תורה עם פירוש רש״י, מ. רוזנבאום וא...</td>\n",
              "      <td>Rashi</td>\n",
              "      <td>True</td>\n",
              "      <td>15.0</td>\n",
              "      <td>1.0002</td>\n",
              "      <td>רש\"י על שמות</td>\n",
              "      <td>Public Domain</td>\n",
              "      <td>NaN</td>\n",
              "    </tr>\n",
              "    <tr>\n",
              "      <th>298</th>\n",
              "      <td>574c6ef4d6e4a9347afe0a74</td>\n",
              "      <td>Rashi on Exodus</td>\n",
              "      <td>Commentary</td>\n",
              "      <td>commentary</td>\n",
              "      <td>Rashi on Exodus 21:1:3</td>\n",
              "      <td>Exodus 21:1</td>\n",
              "      <td>1</td>\n",
              "      <td>1</td>\n",
              "      <td>1090</td>\n",
              "      <td>&lt;b&gt;לפניהם.&lt;/b&gt; וְלֹא לִפְנֵי גוֹיִם, וַאֲפִלּו...</td>\n",
              "      <td>לפניהם BEFORE THEM — but not before the heathe...</td>\n",
              "      <td>Pentateuch with Rashi's commentary by M. Rosen...</td>\n",
              "      <td>רש\"י</td>\n",
              "      <td>['Exodus 21:1']</td>\n",
              "      <td>Rashi on Exodus 21:1:3</td>\n",
              "      <td>רש\"י על שמות כ״א:א׳:ג׳</td>\n",
              "      <td>Pentateuch with Rashi's commentary by M. Rosen...</td>\n",
              "      <td>Public Domain</td>\n",
              "      <td>חמישה חומשי תורה עם פירוש רש״י, מ. רוזנבאום וא...</td>\n",
              "      <td>Rashi</td>\n",
              "      <td>True</td>\n",
              "      <td>15.0</td>\n",
              "      <td>1.0003</td>\n",
              "      <td>רש\"י על שמות</td>\n",
              "      <td>Public Domain</td>\n",
              "      <td>NaN</td>\n",
              "    </tr>\n",
              "    <tr>\n",
              "      <th>4986</th>\n",
              "      <td>574c6ef4d6e4a9347afe0a76</td>\n",
              "      <td>Rashi on Exodus</td>\n",
              "      <td>Commentary</td>\n",
              "      <td>commentary</td>\n",
              "      <td>Rashi on Exodus 21:2:1</td>\n",
              "      <td>Exodus 21:2</td>\n",
              "      <td>1</td>\n",
              "      <td>2</td>\n",
              "      <td>1090</td>\n",
              "      <td>&lt;b&gt;כי תקנה עבד עברי.&lt;/b&gt; עֶבֶד שֶׁהוּא עִבְרִי...</td>\n",
              "      <td>כי תקנה עבד עברי IF THOU BUYEST AN עבד עברי — ...</td>\n",
              "      <td>Pentateuch with Rashi's commentary by M. Rosen...</td>\n",
              "      <td>רש\"י</td>\n",
              "      <td>['Exodus 21:2']</td>\n",
              "      <td>Rashi on Exodus 21:2:1</td>\n",
              "      <td>רש\"י על שמות כ״א:ב׳:א׳</td>\n",
              "      <td>Pentateuch with Rashi's commentary by M. Rosen...</td>\n",
              "      <td>Public Domain</td>\n",
              "      <td>חמישה חומשי תורה עם פירוש רש״י, מ. רוזנבאום וא...</td>\n",
              "      <td>Rashi</td>\n",
              "      <td>True</td>\n",
              "      <td>15.0</td>\n",
              "      <td>2.0001</td>\n",
              "      <td>רש\"י על שמות</td>\n",
              "      <td>Public Domain</td>\n",
              "      <td>NaN</td>\n",
              "    </tr>\n",
              "    <tr>\n",
              "      <th>...</th>\n",
              "      <td>...</td>\n",
              "      <td>...</td>\n",
              "      <td>...</td>\n",
              "      <td>...</td>\n",
              "      <td>...</td>\n",
              "      <td>...</td>\n",
              "      <td>...</td>\n",
              "      <td>...</td>\n",
              "      <td>...</td>\n",
              "      <td>...</td>\n",
              "      <td>...</td>\n",
              "      <td>...</td>\n",
              "      <td>...</td>\n",
              "      <td>...</td>\n",
              "      <td>...</td>\n",
              "      <td>...</td>\n",
              "      <td>...</td>\n",
              "      <td>...</td>\n",
              "      <td>...</td>\n",
              "      <td>...</td>\n",
              "      <td>...</td>\n",
              "      <td>...</td>\n",
              "      <td>...</td>\n",
              "      <td>...</td>\n",
              "      <td>...</td>\n",
              "      <td>...</td>\n",
              "    </tr>\n",
              "    <tr>\n",
              "      <th>150163</th>\n",
              "      <td>574c6ef8d6e4a9347afe11ce</td>\n",
              "      <td>Rashi on Exodus</td>\n",
              "      <td>Commentary</td>\n",
              "      <td>commentary</td>\n",
              "      <td>Rashi on Exodus 40:29:3</td>\n",
              "      <td>Exodus 40:29</td>\n",
              "      <td>40</td>\n",
              "      <td>29</td>\n",
              "      <td>1090</td>\n",
              "      <td>&lt;b&gt;ואת המנחה.&lt;/b&gt; מִנְחַת נְסָכִים שֶׁל תָּמִי...</td>\n",
              "      <td>ואח המנחה AND THE MEAL OFFERING — The meal of...</td>\n",
              "      <td>Pentateuch with Rashi's commentary by M. Rosen...</td>\n",
              "      <td>רש\"י</td>\n",
              "      <td>['Exodus 40:29']</td>\n",
              "      <td>Rashi on Exodus 40:29:3</td>\n",
              "      <td>רש\"י על שמות מ׳:כ״ט:ג׳</td>\n",
              "      <td>Pentateuch with Rashi's commentary by M. Rosen...</td>\n",
              "      <td>Public Domain</td>\n",
              "      <td>חמישה חומשי תורה עם פירוש רש״י, מ. רוזנבאום וא...</td>\n",
              "      <td>Rashi</td>\n",
              "      <td>True</td>\n",
              "      <td>15.0</td>\n",
              "      <td>29.0003</td>\n",
              "      <td>רש\"י על שמות</td>\n",
              "      <td>Public Domain</td>\n",
              "      <td>NaN</td>\n",
              "    </tr>\n",
              "    <tr>\n",
              "      <th>150419</th>\n",
              "      <td>574c6ef8d6e4a9347afe11d0</td>\n",
              "      <td>Rashi on Exodus</td>\n",
              "      <td>Commentary</td>\n",
              "      <td>commentary</td>\n",
              "      <td>Rashi on Exodus 40:31:1</td>\n",
              "      <td>Exodus 40:31</td>\n",
              "      <td>40</td>\n",
              "      <td>31</td>\n",
              "      <td>1090</td>\n",
              "      <td>&lt;b&gt;ורחצו ממנו משה ואהרן.&lt;/b&gt; יוֹם שְׁמִינִי לַ...</td>\n",
              "      <td>ורחצו ממנו משה ואהרן AND MOSES AND AARON [AND...</td>\n",
              "      <td>Pentateuch with Rashi's commentary by M. Rosen...</td>\n",
              "      <td>רש\"י</td>\n",
              "      <td>['Exodus 40:31']</td>\n",
              "      <td>Rashi on Exodus 40:31:1</td>\n",
              "      <td>רש\"י על שמות מ׳:ל״א:א׳</td>\n",
              "      <td>Pentateuch with Rashi's commentary by M. Rosen...</td>\n",
              "      <td>Public Domain</td>\n",
              "      <td>חמישה חומשי תורה עם פירוש רש״י, מ. רוזנבאום וא...</td>\n",
              "      <td>Rashi</td>\n",
              "      <td>True</td>\n",
              "      <td>15.0</td>\n",
              "      <td>31.0001</td>\n",
              "      <td>רש\"י על שמות</td>\n",
              "      <td>Public Domain</td>\n",
              "      <td>NaN</td>\n",
              "    </tr>\n",
              "    <tr>\n",
              "      <th>150499</th>\n",
              "      <td>574c6ef8d6e4a9347afe11d2</td>\n",
              "      <td>Rashi on Exodus</td>\n",
              "      <td>Commentary</td>\n",
              "      <td>commentary</td>\n",
              "      <td>Rashi on Exodus 40:32:1</td>\n",
              "      <td>Exodus 40:32</td>\n",
              "      <td>40</td>\n",
              "      <td>32</td>\n",
              "      <td>1090</td>\n",
              "      <td>&lt;b&gt;ובקרבתם.&lt;/b&gt; כְּמוֹ וּבְקָרְבָם – כְּשֶׁיִּ...</td>\n",
              "      <td>ובקרבתם — This is equivalent to ובקרבם, and h...</td>\n",
              "      <td>Pentateuch with Rashi's commentary by M. Rosen...</td>\n",
              "      <td>רש\"י</td>\n",
              "      <td>['Exodus 40:32']</td>\n",
              "      <td>Rashi on Exodus 40:32:1</td>\n",
              "      <td>רש\"י על שמות מ׳:ל״ב:א׳</td>\n",
              "      <td>Pentateuch with Rashi's commentary by M. Rosen...</td>\n",
              "      <td>Public Domain</td>\n",
              "      <td>חמישה חומשי תורה עם פירוש רש״י, מ. רוזנבאום וא...</td>\n",
              "      <td>Rashi</td>\n",
              "      <td>True</td>\n",
              "      <td>15.0</td>\n",
              "      <td>32.0001</td>\n",
              "      <td>רש\"י על שמות</td>\n",
              "      <td>Public Domain</td>\n",
              "      <td>NaN</td>\n",
              "    </tr>\n",
              "    <tr>\n",
              "      <th>150915</th>\n",
              "      <td>574c6ef8d6e4a9347afe11d4</td>\n",
              "      <td>Rashi on Exodus</td>\n",
              "      <td>Commentary</td>\n",
              "      <td>commentary</td>\n",
              "      <td>Rashi on Exodus 40:35:1</td>\n",
              "      <td>Exodus 40:35</td>\n",
              "      <td>40</td>\n",
              "      <td>35</td>\n",
              "      <td>1090</td>\n",
              "      <td>&lt;b&gt;ולא יכל משה לבוא אל אהל מועד.&lt;/b&gt; וְכָתוּב ...</td>\n",
              "      <td>ולא יכל משה לבא אל אהל מועד AND MOSES WAS NOT...</td>\n",
              "      <td>Pentateuch with Rashi's commentary by M. Rosen...</td>\n",
              "      <td>רש\"י</td>\n",
              "      <td>['Exodus 40:35']</td>\n",
              "      <td>Rashi on Exodus 40:35:1</td>\n",
              "      <td>רש\"י על שמות מ׳:ל״ה:א׳</td>\n",
              "      <td>Pentateuch with Rashi's commentary by M. Rosen...</td>\n",
              "      <td>Public Domain</td>\n",
              "      <td>חמישה חומשי תורה עם פירוש רש״י, מ. רוזנבאום וא...</td>\n",
              "      <td>Rashi</td>\n",
              "      <td>True</td>\n",
              "      <td>15.0</td>\n",
              "      <td>35.0001</td>\n",
              "      <td>רש\"י על שמות</td>\n",
              "      <td>Public Domain</td>\n",
              "      <td>NaN</td>\n",
              "    </tr>\n",
              "    <tr>\n",
              "      <th>151319</th>\n",
              "      <td>574c6ef8d6e4a9347afe11d6</td>\n",
              "      <td>Rashi on Exodus</td>\n",
              "      <td>Commentary</td>\n",
              "      <td>commentary</td>\n",
              "      <td>Rashi on Exodus 40:38:1</td>\n",
              "      <td>Exodus 40:38</td>\n",
              "      <td>40</td>\n",
              "      <td>38</td>\n",
              "      <td>1090</td>\n",
              "      <td>&lt;b&gt;לעיני כל בית ישראל בכל מסעיהם.&lt;/b&gt; בְּכָל מ...</td>\n",
              "      <td>לעיני כל בית ישראל בכל מסעיהם [THE CLOUD WAS ...</td>\n",
              "      <td>Pentateuch with Rashi's commentary by M. Rosen...</td>\n",
              "      <td>רש\"י</td>\n",
              "      <td>['Exodus 40:38']</td>\n",
              "      <td>Rashi on Exodus 40:38:1</td>\n",
              "      <td>רש\"י על שמות מ׳:ל״ח:א׳</td>\n",
              "      <td>Pentateuch with Rashi's commentary by M. Rosen...</td>\n",
              "      <td>Public Domain</td>\n",
              "      <td>חמישה חומשי תורה עם פירוש רש״י, מ. רוזנבאום וא...</td>\n",
              "      <td>Rashi</td>\n",
              "      <td>True</td>\n",
              "      <td>15.0</td>\n",
              "      <td>38.0001</td>\n",
              "      <td>רש\"י על שמות</td>\n",
              "      <td>Public Domain</td>\n",
              "      <td>NaN</td>\n",
              "    </tr>\n",
              "  </tbody>\n",
              "</table>\n",
              "<p>3854 rows × 26 columns</p>\n",
              "</div>"
            ],
            "text/plain": [
              "                             _id  ... heVersionTitleInHebrew\n",
              "120     574c6eefd6e4a9347afe0384  ...                    NaN\n",
              "290     574c6ef4d6e4a9347afe0a70  ...                    NaN\n",
              "294     574c6ef4d6e4a9347afe0a72  ...                    NaN\n",
              "298     574c6ef4d6e4a9347afe0a74  ...                    NaN\n",
              "4986    574c6ef4d6e4a9347afe0a76  ...                    NaN\n",
              "...                          ...  ...                    ...\n",
              "150163  574c6ef8d6e4a9347afe11ce  ...                    NaN\n",
              "150419  574c6ef8d6e4a9347afe11d0  ...                    NaN\n",
              "150499  574c6ef8d6e4a9347afe11d2  ...                    NaN\n",
              "150915  574c6ef8d6e4a9347afe11d4  ...                    NaN\n",
              "151319  574c6ef8d6e4a9347afe11d6  ...                    NaN\n",
              "\n",
              "[3854 rows x 26 columns]"
            ]
          },
          "metadata": {},
          "execution_count": 57
        }
      ]
    },
    {
      "cell_type": "code",
      "metadata": {
        "colab": {
          "base_uri": "https://localhost:8080/",
          "height": 386
        },
        "id": "zARIWwY0Sd1H",
        "outputId": "56631b42-1aa3-4f29-fdc0-9b85aeaa3fc3"
      },
      "source": [
        "sns.displot(rashi['Chapter'])"
      ],
      "execution_count": 66,
      "outputs": [
        {
          "output_type": "execute_result",
          "data": {
            "text/plain": [
              "<seaborn.axisgrid.FacetGrid at 0x7f8dbe2b8a90>"
            ]
          },
          "metadata": {},
          "execution_count": 66
        },
        {
          "output_type": "display_data",
          "data": {
            "image/png": "[encoded data removed]",
            "text/plain": [
              "<Figure size 360x360 with 1 Axes>"
            ]
          },
          "metadata": {
            "needs_background": "light"
          }
        }
      ]
    },
    {
      "cell_type": "code",
      "metadata": {
        "colab": {
          "base_uri": "https://localhost:8080/",
          "height": 386
        },
        "id": "WiXLI1-bRjul",
        "outputId": "8c4aa966-c7dc-44b3-b333-8e09529b8c15"
      },
      "source": [
        "sns.displot(data=rashi, x='Chapter', y='verse')"
      ],
      "execution_count": 60,
      "outputs": [
        {
          "output_type": "execute_result",
          "data": {
            "text/plain": [
              "<seaborn.axisgrid.FacetGrid at 0x7f8dc1e31150>"
            ]
          },
          "metadata": {},
          "execution_count": 60
        },
        {
          "output_type": "display_data",
          "data": {
            "image/png": "[encoded data removed]",
            "text/plain": [
              "<Figure size 360x360 with 1 Axes>"
            ]
          },
          "metadata": {
            "needs_background": "light"
          }
        }
      ]
    },
    {
      "cell_type": "code",
      "metadata": {
        "id": "fX0_E6tjRuY2"
      },
      "source": [
        "rashi_ch_select = rashi[(rashi['Chapter'] >= 9) & (rashi['Chapter'] <= 22)]"
      ],
      "execution_count": 76,
      "outputs": []
    },
    {
      "cell_type": "code",
      "metadata": {
        "colab": {
          "base_uri": "https://localhost:8080/",
          "height": 386
        },
        "id": "J-UzUQLpU7TR",
        "outputId": "d22831db-458b-42f5-f94d-9e9f05cce353"
      },
      "source": [
        "sns.displot(data=rashi_ch_select, x='Chapter', y='verse')"
      ],
      "execution_count": 77,
      "outputs": [
        {
          "output_type": "execute_result",
          "data": {
            "text/plain": [
              "<seaborn.axisgrid.FacetGrid at 0x7f8dbde7a510>"
            ]
          },
          "metadata": {},
          "execution_count": 77
        },
        {
          "output_type": "display_data",
          "data": {
            "image/png": "[encoded data removed]",
            "text/plain": [
              "<Figure size 360x360 with 1 Axes>"
            ]
          },
          "metadata": {
            "needs_background": "light"
          }
        }
      ]
    },
    {
      "cell_type": "code",
      "metadata": {
        "id": "DaseCNcOU-_o"
      },
      "source": [
        ""
      ],
      "execution_count": null,
      "outputs": []
    }
  ]
}